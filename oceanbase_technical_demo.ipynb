{
 "cells": [
  {
   "cell_type": "code",
   "execution_count": 1,
   "metadata": {},
   "outputs": [
    {
     "name": "stdout",
     "output_type": "stream",
     "text": [
      "Defaulting to user installation because normal site-packages is not writeable\n",
      "Requirement already satisfied: pip in c:\\users\\jnyh\\appdata\\roaming\\python\\python38\\site-packages (23.2)\n",
      "Collecting pip\n",
      "  Obtaining dependency information for pip from https://files.pythonhosted.org/packages/50/c2/e06851e8cc28dcad7c155f4753da8833ac06a5c704c109313b8d5a62968a/pip-23.2.1-py3-none-any.whl.metadata\n",
      "  Using cached pip-23.2.1-py3-none-any.whl.metadata (4.2 kB)\n",
      "Using cached pip-23.2.1-py3-none-any.whl (2.1 MB)\n"
     ]
    },
    {
     "name": "stderr",
     "output_type": "stream",
     "text": [
      "ERROR: To modify pip, please run the following command:\n",
      "c:\\program files\\python38\\python.exe -m pip install --upgrade pip\n",
      "\n",
      "[notice] A new release of pip is available: 23.2 -> 23.2.1\n",
      "[notice] To update, run: python.exe -m pip install --upgrade pip\n"
     ]
    }
   ],
   "source": [
    "!pip install --upgrade pip"
   ]
  },
  {
   "cell_type": "code",
   "execution_count": 2,
   "metadata": {},
   "outputs": [
    {
     "name": "stdout",
     "output_type": "stream",
     "text": [
      "Defaulting to user installation because normal site-packages is not writeable\n",
      "Requirement already satisfied: PyMySQL in c:\\users\\jnyh\\appdata\\roaming\\python\\python38\\site-packages (1.1.0)\n"
     ]
    },
    {
     "name": "stderr",
     "output_type": "stream",
     "text": [
      "\n",
      "[notice] A new release of pip is available: 23.2 -> 23.2.1\n",
      "[notice] To update, run: python.exe -m pip install --upgrade pip\n"
     ]
    }
   ],
   "source": [
    "!pip install PyMySQL"
   ]
  },
  {
   "cell_type": "code",
   "execution_count": null,
   "metadata": {},
   "outputs": [],
   "source": [
    "#Env Python 3.8.2\n",
    "import pymysql"
   ]
  },
  {
   "cell_type": "code",
   "execution_count": 5,
   "metadata": {},
   "outputs": [
    {
     "name": "stdout",
     "output_type": "stream",
     "text": [
      "(1, 1, datetime.date(2021, 1, 1), Decimal('9000.00'))\n",
      "(2, 1, datetime.date(2022, 1, 1), Decimal('10000.00'))\n",
      "(3, 1, datetime.date(2023, 1, 1), Decimal('19000.00'))\n",
      "(4, 2, datetime.date(2021, 1, 1), Decimal('9000.00'))\n",
      "(5, 2, datetime.date(2022, 1, 1), Decimal('15000.00'))\n",
      "(6, 2, datetime.date(2023, 1, 1), Decimal('12000.00'))\n",
      "(7, 1, datetime.date(2021, 1, 1), Decimal('5000.00'))\n",
      "(8, 1, datetime.date(2022, 1, 1), Decimal('16000.00'))\n",
      "(9, 1, datetime.date(2023, 1, 1), Decimal('8000.00'))\n",
      "(10, 2, datetime.date(2021, 1, 1), Decimal('19000.00'))\n",
      "(11, 2, datetime.date(2022, 1, 1), Decimal('2000.00'))\n",
      "(12, 2, datetime.date(2023, 1, 1), Decimal('18000.00'))\n",
      "(13, 1, datetime.date(2021, 1, 1), Decimal('15000.00'))\n",
      "(14, 1, datetime.date(2022, 1, 1), Decimal('4000.00'))\n",
      "(15, 1, datetime.date(2023, 1, 1), Decimal('12000.00'))\n",
      "(16, 2, datetime.date(2021, 1, 1), Decimal('5000.00'))\n",
      "(17, 2, datetime.date(2022, 1, 1), Decimal('5000.00'))\n",
      "(18, 2, datetime.date(2023, 1, 1), Decimal('18000.00'))\n",
      "(19, 1, datetime.date(2021, 1, 1), Decimal('19000.00'))\n",
      "(20, 2, datetime.date(2022, 1, 1), Decimal('19000.00'))\n"
     ]
    }
   ],
   "source": [
    "#Connect to the OceanBase database in Docker (after set up in DBeaver)\n",
    "conn = pymysql.connect(\n",
    "    host=\"127.0.0.1\",\n",
    "    port=2883,\n",
    "    user=\"root\",\n",
    "    passwd=\"rootPWD123\",\n",
    "    db=\"jamesdatabase\"\n",
    ")\n",
    "\n",
    "try:\n",
    "    with conn.cursor() as cur:\n",
    "        cur.execute('SELECT * FROM sales')\n",
    "        ans = cur.fetchall()\n",
    "        for line in ans:\n",
    "            print(line)\n",
    "\n",
    "finally:\n",
    "    conn.close()"
   ]
  },
  {
   "cell_type": "code",
   "execution_count": null,
   "metadata": {},
   "outputs": [],
   "source": []
  }
 ],
 "metadata": {
  "kernelspec": {
   "display_name": "Python 3",
   "language": "python",
   "name": "python3"
  },
  "language_info": {
   "codemirror_mode": {
    "name": "ipython",
    "version": 3
   },
   "file_extension": ".py",
   "mimetype": "text/x-python",
   "name": "python",
   "nbconvert_exporter": "python",
   "pygments_lexer": "ipython3",
   "version": "3.8.2"
  },
  "orig_nbformat": 4
 },
 "nbformat": 4,
 "nbformat_minor": 2
}
